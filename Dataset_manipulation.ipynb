{
 "cells": [
  {
   "cell_type": "code",
   "execution_count": 1,
   "id": "18bd8cef",
   "metadata": {},
   "outputs": [],
   "source": [
    "import pandas as pd\n",
    "\n",
    "df = pd.read_csv(\"./dataset.csv\", header = 0)\n",
    "df = df.iloc[1: , :]"
   ]
  },
  {
   "cell_type": "code",
   "execution_count": 2,
   "id": "5a4d262e",
   "metadata": {},
   "outputs": [
    {
     "data": {
      "text/plain": [
       "Index(['distance', 'deltatime', 'theta', 'lat', 'lon', 'speed'], dtype='object')"
      ]
     },
     "execution_count": 2,
     "metadata": {},
     "output_type": "execute_result"
    }
   ],
   "source": [
    "df.columns"
   ]
  },
  {
   "cell_type": "code",
   "execution_count": 3,
   "id": "45f406fb",
   "metadata": {},
   "outputs": [
    {
     "name": "stdout",
     "output_type": "stream",
     "text": [
      "0.8761385927788007\n",
      "0.0402479455645907\n",
      "-0.061619188594568615\n",
      "39.95576091168604\n",
      "116.35622242104697\n",
      "27.038786771418494\n"
     ]
    }
   ],
   "source": [
    "df.distance = pd.to_numeric(df.distance, errors='coerce')\n",
    "print(df.distance.mean())\n",
    "df.deltatime = pd.to_numeric(df.deltatime, errors='coerce')\n",
    "print(df.deltatime.mean())\n",
    "df.theta = pd.to_numeric(df.theta, errors='coerce')\n",
    "print(df.theta.mean())\n",
    "df.lat = pd.to_numeric(df.lat, errors='coerce')\n",
    "print(df.lat.mean())\n",
    "df.lon = pd.to_numeric(df.lon, errors='coerce')\n",
    "print(df.lon.mean())\n",
    "df.speed = pd.to_numeric(df.speed, errors='coerce')\n",
    "print(df.speed.mean())"
   ]
  },
  {
   "cell_type": "code",
   "execution_count": 4,
   "id": "0c20a7a1",
   "metadata": {},
   "outputs": [],
   "source": [
    "from sklearn.model_selection import train_test_split\n",
    "from sklearn.linear_model import LinearRegression\n",
    "from sklearn.pipeline import make_pipeline\n",
    "from sklearn.preprocessing import StandardScaler\n",
    "from sklearn.metrics import mean_squared_error, r2_score\n",
    "\n",
    "df.dropna(inplace=True)\n",
    "x = df[['distance', 'theta', 'lat', 'lon', 'speed']]\n",
    "y = df[['deltatime']]\n",
    "\n",
    "x_train, x_test, y_train, y_test = train_test_split(\n",
    "        x, y, test_size=0.2, random_state=42)"
   ]
  },
  {
   "cell_type": "code",
   "execution_count": 5,
   "id": "b72d7e9e",
   "metadata": {
    "scrolled": true
   },
   "outputs": [],
   "source": [
    "model = make_pipeline(StandardScaler(with_mean=True), LinearRegression())\n",
    "reg = model.fit(x_train, y_train)"
   ]
  },
  {
   "cell_type": "code",
   "execution_count": 6,
   "id": "0c0fea81",
   "metadata": {},
   "outputs": [
    {
     "data": {
      "text/plain": [
       "0.3075078499066547"
      ]
     },
     "execution_count": 6,
     "metadata": {},
     "output_type": "execute_result"
    }
   ],
   "source": [
    "reg.score(x_test, y_test)"
   ]
  },
  {
   "cell_type": "code",
   "execution_count": 7,
   "id": "2ad612b8",
   "metadata": {},
   "outputs": [],
   "source": [
    "y_pred = reg.predict(x_test)"
   ]
  },
  {
   "cell_type": "code",
   "execution_count": 8,
   "id": "de216b26",
   "metadata": {},
   "outputs": [
    {
     "data": {
      "text/plain": [
       "0.011981415477783369"
      ]
     },
     "execution_count": 8,
     "metadata": {},
     "output_type": "execute_result"
    }
   ],
   "source": [
    "mean_squared_error(y_test, y_pred)"
   ]
  },
  {
   "cell_type": "code",
   "execution_count": 9,
   "id": "4c1fdbfb",
   "metadata": {},
   "outputs": [
    {
     "data": {
      "text/plain": [
       "0.3075078499066547"
      ]
     },
     "execution_count": 9,
     "metadata": {},
     "output_type": "execute_result"
    }
   ],
   "source": [
    "r2_score(y_test, y_pred)"
   ]
  },
  {
   "cell_type": "code",
   "execution_count": 10,
   "id": "332243c5",
   "metadata": {},
   "outputs": [
    {
     "data": {
      "text/plain": [
       "666282"
      ]
     },
     "execution_count": 10,
     "metadata": {},
     "output_type": "execute_result"
    }
   ],
   "source": [
    "df.size"
   ]
  },
  {
   "cell_type": "code",
   "execution_count": null,
   "id": "0b7c058e",
   "metadata": {},
   "outputs": [],
   "source": []
  }
 ],
 "metadata": {
  "kernelspec": {
   "display_name": "Python 3 (ipykernel)",
   "language": "python",
   "name": "python3"
  },
  "language_info": {
   "codemirror_mode": {
    "name": "ipython",
    "version": 3
   },
   "file_extension": ".py",
   "mimetype": "text/x-python",
   "name": "python",
   "nbconvert_exporter": "python",
   "pygments_lexer": "ipython3",
   "version": "3.8.10"
  }
 },
 "nbformat": 4,
 "nbformat_minor": 5
}
